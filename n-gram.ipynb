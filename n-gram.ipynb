{
 "cells": [
  {
   "cell_type": "code",
   "execution_count": 2,
   "id": "60765fd5-b969-442b-b122-2be6f1708cb6",
   "metadata": {},
   "outputs": [
    {
     "name": "stderr",
     "output_type": "stream",
     "text": [
      "[nltk_data] Downloading package punkt to\n",
      "[nltk_data]     C:\\Users\\Python\\AppData\\Roaming\\nltk_data...\n",
      "[nltk_data]   Package punkt is already up-to-date!\n"
     ]
    },
    {
     "data": {
      "text/plain": [
       "True"
      ]
     },
     "execution_count": 2,
     "metadata": {},
     "output_type": "execute_result"
    }
   ],
   "source": [
    "import nltk\n",
    "nltk.download('punkt')"
   ]
  },
  {
   "cell_type": "code",
   "execution_count": 19,
   "id": "503f22bd-a778-40c1-ace7-23305ff2e371",
   "metadata": {},
   "outputs": [
    {
     "name": "stdout",
     "output_type": "stream",
     "text": [
      "unigrame: ['this', 'is', 'my', 'first', 'n-gram', 'programe', 'welcome']\n",
      "bigrame: [('this', 'is'), ('is', 'my'), ('my', 'first'), ('first', 'n-gram'), ('n-gram', 'programe'), ('programe', 'welcome')]\n",
      "trigrame: [('this', 'is', 'my'), ('is', 'my', 'first'), ('my', 'first', 'n-gram'), ('first', 'n-gram', 'programe'), ('n-gram', 'programe', 'welcome')]\n"
     ]
    }
   ],
   "source": [
    "from nltk import ngrams\n",
    "from nltk.tokenize import word_tokenize\n",
    "sent= ' this is my first n-gram programe welcome'\n",
    "token=word_tokenize(sent)\n",
    "bigrame=list(ngrams(token,2))\n",
    "trigrame=list(ngrams(token,3))\n",
    "print('unigrame:',token)\n",
    "print('bigrame:',bigrame)\n",
    "print('trigrame:',trigrame)"
   ]
  },
  {
   "cell_type": "code",
   "execution_count": null,
   "id": "b6128ff7-84c8-4bfa-a21b-ee2d4fcac1eb",
   "metadata": {},
   "outputs": [],
   "source": []
  }
 ],
 "metadata": {
  "kernelspec": {
   "display_name": "Python 3 (ipykernel)",
   "language": "python",
   "name": "python3"
  },
  "language_info": {
   "codemirror_mode": {
    "name": "ipython",
    "version": 3
   },
   "file_extension": ".py",
   "mimetype": "text/x-python",
   "name": "python",
   "nbconvert_exporter": "python",
   "pygments_lexer": "ipython3",
   "version": "3.12.4"
  }
 },
 "nbformat": 4,
 "nbformat_minor": 5
}
