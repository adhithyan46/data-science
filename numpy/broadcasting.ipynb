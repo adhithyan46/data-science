{
 "cells": [
  {
   "cell_type": "code",
   "execution_count": 2,
   "id": "007f43e9-048b-4b5a-9362-c735ad42b73a",
   "metadata": {},
   "outputs": [
    {
     "data": {
      "text/plain": [
       "array([ 2,  8, 18, 32])"
      ]
     },
     "execution_count": 2,
     "metadata": {},
     "output_type": "execute_result"
    }
   ],
   "source": [
    "import numpy as np\n",
    "arr1=np.array([1,2,3,4])\n",
    "arr2=np.array([2,4,6,8])\n",
    "rslt=arr1*arr2\n",
    "rslt"
   ]
  },
  {
   "cell_type": "code",
   "execution_count": null,
   "id": "1f541f10-1bf1-4498-93aa-026f5c3e7adb",
   "metadata": {},
   "outputs": [],
   "source": [
    "import numpy as np\n",
    "arr1=np.array([1,2,3,4])\n",
    "arr2=np.array([[2,4,6,8],[1,2,3,4],[5,6,7,8][)\n",
    "rslt=arr1*arr2\n",
    "rslt"
   ]
  }
 ],
 "metadata": {
  "kernelspec": {
   "display_name": "Python 3 (ipykernel)",
   "language": "python",
   "name": "python3"
  },
  "language_info": {
   "codemirror_mode": {
    "name": "ipython",
    "version": 3
   },
   "file_extension": ".py",
   "mimetype": "text/x-python",
   "name": "python",
   "nbconvert_exporter": "python",
   "pygments_lexer": "ipython3",
   "version": "3.12.4"
  }
 },
 "nbformat": 4,
 "nbformat_minor": 5
}
