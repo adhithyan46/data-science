{
 "cells": [
  {
   "cell_type": "code",
   "execution_count": 3,
   "id": "04a0bad0-bd72-4243-abb6-75bb8d741a7f",
   "metadata": {},
   "outputs": [
    {
     "data": {
      "text/plain": [
       "array([0, 1, 2, 3, 4, 6])"
      ]
     },
     "execution_count": 3,
     "metadata": {},
     "output_type": "execute_result"
    }
   ],
   "source": [
    "#sort\n",
    "import numpy as np\n",
    "arr=np.array([4,2,6,1,0,3])\n",
    "np.sort(arr)"
   ]
  },
  {
   "cell_type": "code",
   "execution_count": null,
   "id": "1aed8e3f-d891-4dc2-a19e-68e7aed928b6",
   "metadata": {},
   "outputs": [],
   "source": [
    "import numpy as np\n",
    "arr="
   ]
  }
 ],
 "metadata": {
  "kernelspec": {
   "display_name": "Python 3 (ipykernel)",
   "language": "python",
   "name": "python3"
  },
  "language_info": {
   "codemirror_mode": {
    "name": "ipython",
    "version": 3
   },
   "file_extension": ".py",
   "mimetype": "text/x-python",
   "name": "python",
   "nbconvert_exporter": "python",
   "pygments_lexer": "ipython3",
   "version": "3.12.4"
  }
 },
 "nbformat": 4,
 "nbformat_minor": 5
}
