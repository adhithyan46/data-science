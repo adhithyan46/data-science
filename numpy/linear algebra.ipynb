{
 "cells": [
  {
   "cell_type": "code",
   "execution_count": 1,
   "id": "ff40dbc7-a393-46ba-841d-3f98c92a6ec9",
   "metadata": {},
   "outputs": [
    {
     "data": {
      "text/plain": [
       "60"
      ]
     },
     "execution_count": 1,
     "metadata": {},
     "output_type": "execute_result"
    }
   ],
   "source": [
    "#dot()\n",
    "\n",
    "import numpy as np\n",
    "arr1=np.array([1,2,3,4])\n",
    "arr2=np.array([2,4,6,8])\n",
    "rslt=np.dot(arr1,arr2)\n",
    "rslt"
   ]
  },
  {
   "cell_type": "code",
   "execution_count": 2,
   "id": "59d852ab-2b2c-4ce8-95a7-f13a4b358c8c",
   "metadata": {},
   "outputs": [
    {
     "data": {
      "text/plain": [
       "array([[10, 22],\n",
       "       [22, 50]])"
      ]
     },
     "execution_count": 2,
     "metadata": {},
     "output_type": "execute_result"
    }
   ],
   "source": [
    "#inner()\n",
    "\n",
    "import numpy as np\n",
    "arr1=np.array([[1,2],\n",
    "              [3,4]])\n",
    "arr2=np.array([[2,4],\n",
    "              [6,8]])\n",
    "rslt=np.inner(arr1,arr2)\n",
    "rslt"
   ]
  },
  {
   "cell_type": "code",
   "execution_count": 3,
   "id": "06df12a1-80b1-49e8-8a76-eaffc4ff5593",
   "metadata": {},
   "outputs": [
    {
     "data": {
      "text/plain": [
       "array([[ 2,  4,  6],\n",
       "       [ 4,  8, 12],\n",
       "       [ 6, 12, 18]])"
      ]
     },
     "execution_count": 3,
     "metadata": {},
     "output_type": "execute_result"
    }
   ],
   "source": [
    "#outer()\n",
    "\n",
    "import numpy as np\n",
    "arr1=np.array([1,2,3])\n",
    "arr2=np.array([2,4,6])\n",
    "rslt=np.outer(arr1,arr2)\n",
    "rslt"
   ]
  },
  {
   "cell_type": "code",
   "execution_count": 5,
   "id": "546bca66-1cbe-4148-b7d3-1ba061697971",
   "metadata": {},
   "outputs": [
    {
     "data": {
      "text/plain": [
       "-7.999999999999998"
      ]
     },
     "execution_count": 5,
     "metadata": {},
     "output_type": "execute_result"
    }
   ],
   "source": [
    "#determinant(det())\n",
    "\n",
    "import numpy as np\n",
    "arr=np.array([[1,3],\n",
    "              [5,7]])  #  [1,3]  = (1*7)-(3*5) =7-15\n",
    "                        # [5,7]\n",
    "\n",
    "rslt=np.linalg.det(arr)\n",
    "rslt"
   ]
  },
  {
   "cell_type": "code",
   "execution_count": 6,
   "id": "2892faf9-dbdf-47c7-b250-72003a4c561e",
   "metadata": {},
   "outputs": [
    {
     "data": {
      "text/plain": [
       "array([-1. ,  1.5])"
      ]
     },
     "execution_count": 6,
     "metadata": {},
     "output_type": "execute_result"
    }
   ],
   "source": [
    "#solve()\n",
    "\n",
    "import numpy as np\n",
    "arr1=np.array([[1,2],[3,4]])\n",
    "arr2=np.array([2,3])\n",
    "rslt=np.linalg.solve(arr1,arr2)\n",
    "rslt"
   ]
  },
  {
   "cell_type": "code",
   "execution_count": 7,
   "id": "ab6b568a-3f38-4ec4-8813-87d716dad961",
   "metadata": {},
   "outputs": [
    {
     "data": {
      "text/plain": [
       "array([[-2. ,  1. ],\n",
       "       [ 1.5, -0.5]])"
      ]
     },
     "execution_count": 7,
     "metadata": {},
     "output_type": "execute_result"
    }
   ],
   "source": [
    "#inverse inv()\n",
    "\n",
    "import numpy as np \n",
    "arr=np.array([[1,2],[3,4]])\n",
    "rslt=np.linalg.inv(arr)\n",
    "rslt"
   ]
  },
  {
   "cell_type": "code",
   "execution_count": 9,
   "id": "c699fa54-b2b6-4672-b185-0db1cef2c484",
   "metadata": {},
   "outputs": [
    {
     "data": {
      "text/plain": [
       "11"
      ]
     },
     "execution_count": 9,
     "metadata": {},
     "output_type": "execute_result"
    }
   ],
   "source": [
    "#trace()\n",
    "\n",
    "import numpy as np \n",
    "arr=np.array([[1,2,3],[3,4,5],[2,4,6]])\n",
    "rslt=np.trace(arr)\n",
    "rslt\n",
    "\n"
   ]
  },
  {
   "cell_type": "code",
   "execution_count": null,
   "id": "680ece1e-4638-4e9c-91dd-439e443c8d54",
   "metadata": {},
   "outputs": [],
   "source": []
  }
 ],
 "metadata": {
  "kernelspec": {
   "display_name": "Python 3 (ipykernel)",
   "language": "python",
   "name": "python3"
  },
  "language_info": {
   "codemirror_mode": {
    "name": "ipython",
    "version": 3
   },
   "file_extension": ".py",
   "mimetype": "text/x-python",
   "name": "python",
   "nbconvert_exporter": "python",
   "pygments_lexer": "ipython3",
   "version": "3.12.4"
  }
 },
 "nbformat": 4,
 "nbformat_minor": 5
}
