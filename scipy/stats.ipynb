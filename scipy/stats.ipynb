{
 "cells": [
  {
   "cell_type": "code",
   "execution_count": 3,
   "id": "ed1400cc-a6f2-4c39-b0e7-31a86f4af65f",
   "metadata": {},
   "outputs": [
    {
     "data": {
      "text/plain": [
       "array([0.84134475, 0.97724987, 0.9986501 ])"
      ]
     },
     "execution_count": 3,
     "metadata": {},
     "output_type": "execute_result"
    }
   ],
   "source": [
    "#cdf\n",
    "\n",
    "from scipy.stats import norm\n",
    "import numpy as np\n",
    "arr=np.array([1,2,3])\n",
    "norm.cdf(arr)\n"
   ]
  },
  {
   "cell_type": "code",
   "execution_count": 8,
   "id": "8edda57c-d3a3-45b0-813f-071d21d4877b",
   "metadata": {},
   "outputs": [
    {
     "data": {
      "text/plain": [
       "3.0"
      ]
     },
     "execution_count": 8,
     "metadata": {},
     "output_type": "execute_result"
    }
   ],
   "source": [
    "#circmean\n",
    "\n",
    "from scipy.stats import circmean\n",
    "import numpy as np\n",
    "arr=np.array([1,2,3,4])\n",
    "circmean(arr,high=4,low=0)"
   ]
  },
  {
   "cell_type": "code",
   "execution_count": 10,
   "id": "c334902d-aa16-42c6-acc4-2287fa601a31",
   "metadata": {},
   "outputs": [
    {
     "data": {
      "text/plain": [
       "DescribeResult(nobs=4, minmax=(1, 4), mean=2.5, variance=1.6666666666666665, skewness=0.0, kurtosis=-1.36)"
      ]
     },
     "execution_count": 10,
     "metadata": {},
     "output_type": "execute_result"
    }
   ],
   "source": [
    "#describe\n",
    "\n",
    "from scipy import stats\n",
    "import numpy\n",
    "arr=numpy.array([1,2,3,4])\n",
    "stats.describe(arr)"
   ]
  },
  {
   "cell_type": "code",
   "execution_count": 15,
   "id": "92de30bd-93ce-4065-ae85-301c5f547f8d",
   "metadata": {},
   "outputs": [
    {
     "data": {
      "text/plain": [
       "0.447213595499958"
      ]
     },
     "execution_count": 15,
     "metadata": {},
     "output_type": "execute_result"
    }
   ],
   "source": [
    "#variation\n",
    "\n",
    "from scipy import stats\n",
    "import numpy\n",
    "arr=numpy.array([1,2,3,4])\n",
    "stats.variation(arr)"
   ]
  },
  {
   "cell_type": "code",
   "execution_count": 17,
   "id": "35f02f37-2152-4883-bba3-573ad0713bf1",
   "metadata": {},
   "outputs": [
    {
     "data": {
      "text/plain": [
       "0.0851729862513868"
      ]
     },
     "execution_count": 17,
     "metadata": {},
     "output_type": "execute_result"
    }
   ],
   "source": [
    "#kurtosis\n",
    "\n",
    "from scipy import stats \n",
    "ds=stats.norm.rvs(size=88)\n",
    "stats.kurtosis(ds)"
   ]
  },
  {
   "cell_type": "code",
   "execution_count": 19,
   "id": "60883e22-db27-44b9-9a44-2f47e23f7225",
   "metadata": {},
   "outputs": [
    {
     "data": {
      "text/plain": [
       "array([1., 2., 3., 4.])"
      ]
     },
     "execution_count": 19,
     "metadata": {},
     "output_type": "execute_result"
    }
   ],
   "source": [
    "#rank\n",
    "\n",
    "from scipy import stats\n",
    "array=([1,2,3,4])\n",
    "stats.rankdata(array)"
   ]
  },
  {
   "cell_type": "code",
   "execution_count": 20,
   "id": "3af6c14e-5d78-408a-9ebe-9e811cad8f36",
   "metadata": {},
   "outputs": [
    {
     "data": {
      "text/plain": [
       "array([-1.41421356, -0.70710678,  0.        ,  0.70710678,  1.41421356])"
      ]
     },
     "execution_count": 20,
     "metadata": {},
     "output_type": "execute_result"
    }
   ],
   "source": [
    "#zscore\n",
    "\n",
    "from scipy import stats\n",
    "ds=([1,2,3,4,5])\n",
    "stats.zscore(ds)"
   ]
  },
  {
   "cell_type": "code",
   "execution_count": null,
   "id": "f66b1eee-bf86-4353-a165-a5fef9b0b4c8",
   "metadata": {},
   "outputs": [],
   "source": []
  }
 ],
 "metadata": {
  "kernelspec": {
   "display_name": "Python 3 (ipykernel)",
   "language": "python",
   "name": "python3"
  },
  "language_info": {
   "codemirror_mode": {
    "name": "ipython",
    "version": 3
   },
   "file_extension": ".py",
   "mimetype": "text/x-python",
   "name": "python",
   "nbconvert_exporter": "python",
   "pygments_lexer": "ipython3",
   "version": "3.12.4"
  }
 },
 "nbformat": 4,
 "nbformat_minor": 5
}
