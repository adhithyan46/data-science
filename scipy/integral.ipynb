{
 "cells": [
  {
   "cell_type": "code",
   "execution_count": 1,
   "id": "dd550435-ade9-4ea2-a58a-dfdfa6d4597e",
   "metadata": {},
   "outputs": [
    {
     "data": {
      "text/plain": [
       "2.960594732333751e-14"
      ]
     },
     "execution_count": 1,
     "metadata": {},
     "output_type": "execute_result"
    }
   ],
   "source": [
    "#quad\n",
    "\n",
    "from scipy.integrate import quad\n",
    "def f(x):\n",
    "    return 5.0*x*x+1.0\n",
    "i,err=quad(f,0,1)\n",
    "i\n",
    "err"
   ]
  },
  {
   "cell_type": "code",
   "execution_count": 2,
   "id": "9aef0b01-fc84-4176-9138-110ccb38c1c3",
   "metadata": {},
   "outputs": [
    {
     "data": {
      "text/plain": [
       "(0.010416666666666668, 4.101620128472366e-16)"
      ]
     },
     "execution_count": 2,
     "metadata": {},
     "output_type": "execute_result"
    }
   ],
   "source": [
    "#dblquad\n",
    "\n",
    "from scipy.integrate import dblquad\n",
    "area=dblquad(lambda x,y:x*y,0,0.5,lambda x:0,lambda x:1-2*x)\n",
    "area"
   ]
  },
  {
   "cell_type": "code",
   "execution_count": 3,
   "id": "6b1a3b15-5ce6-43af-b80f-7d92933080fa",
   "metadata": {},
   "outputs": [
    {
     "data": {
      "text/plain": [
       "2.666666666666667"
      ]
     },
     "execution_count": 3,
     "metadata": {},
     "output_type": "execute_result"
    }
   ],
   "source": [
    "#nquad\n",
    "\n",
    "from scipy.integrate import nquad\n",
    "def f(x,y,z):\n",
    "    return x*y*z\n",
    "    i=nquad(f,[[0,1],[0,5],[0,5]])\n",
    "i\n"
   ]
  },
  {
   "cell_type": "code",
   "execution_count": null,
   "id": "4cb4f6b9-44c4-4ef3-b067-69cf07555e0f",
   "metadata": {},
   "outputs": [],
   "source": []
  }
 ],
 "metadata": {
  "kernelspec": {
   "display_name": "Python 3 (ipykernel)",
   "language": "python",
   "name": "python3"
  },
  "language_info": {
   "codemirror_mode": {
    "name": "ipython",
    "version": 3
   },
   "file_extension": ".py",
   "mimetype": "text/x-python",
   "name": "python",
   "nbconvert_exporter": "python",
   "pygments_lexer": "ipython3",
   "version": "3.12.4"
  }
 },
 "nbformat": 4,
 "nbformat_minor": 5
}
