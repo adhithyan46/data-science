{
 "cells": [
  {
   "cell_type": "code",
   "execution_count": 2,
   "id": "ec3b4456-74c0-4a91-846c-c8a78fe57d70",
   "metadata": {},
   "outputs": [
    {
     "data": {
      "text/plain": [
       "(array([[-0.57604844, -0.81741556],\n",
       "        [ 0.81741556, -0.57604844]]),\n",
       " array([5.4649857 , 0.36596619]),\n",
       " array([[-0.40455358, -0.9145143 ],\n",
       "        [-0.9145143 ,  0.40455358]]))"
      ]
     },
     "execution_count": 2,
     "metadata": {},
     "output_type": "execute_result"
    }
   ],
   "source": [
    "#singular value decomposition\n",
    "\n",
    "from scipy import linalg\n",
    "import numpy as np\n",
    "m=np.array([[1,2],[3,4]])\n",
    "x,y,z=linalg.svd(m)\n",
    "z,y,x"
   ]
  },
  {
   "cell_type": "code",
   "execution_count": 3,
   "id": "f5ea332c-93a6-454b-a6d2-ade206233985",
   "metadata": {},
   "outputs": [
    {
     "data": {
      "text/plain": [
       "array([[-0.82456484, -0.41597356],\n",
       "       [ 0.56576746, -0.90937671]])"
      ]
     },
     "execution_count": 3,
     "metadata": {},
     "output_type": "execute_result"
    }
   ],
   "source": [
    "#eigen value and eigen vector\n",
    "\n",
    "from scipy import linalg\n",
    "import numpy as np\n",
    "M=np.array([[1,2],[3,4]])\n",
    "val,vect=linalg.eig(m)\n",
    "val\n",
    "vect"
   ]
  },
  {
   "cell_type": "code",
   "execution_count": 6,
   "id": "bc0aa8f2-4af6-4eae-918a-27537025e645",
   "metadata": {},
   "outputs": [
    {
     "data": {
      "text/plain": [
       "(2.23606797749979, 3.0)"
      ]
     },
     "execution_count": 6,
     "metadata": {},
     "output_type": "execute_result"
    }
   ],
   "source": [
    "#norms\n",
    "\n",
    "from scipy import linalg\n",
    "import numpy as np\n",
    "x=np.array([1,2])\n",
    "a=linalg.norm(x)  #l2\n",
    "b=linalg.norm(x,1) #l1\n",
    "a,b"
   ]
  },
  {
   "cell_type": "code",
   "execution_count": null,
   "id": "e647e751-3036-4221-a772-be7ad8b1fc76",
   "metadata": {},
   "outputs": [],
   "source": []
  }
 ],
 "metadata": {
  "kernelspec": {
   "display_name": "Python 3 (ipykernel)",
   "language": "python",
   "name": "python3"
  },
  "language_info": {
   "codemirror_mode": {
    "name": "ipython",
    "version": 3
   },
   "file_extension": ".py",
   "mimetype": "text/x-python",
   "name": "python",
   "nbconvert_exporter": "python",
   "pygments_lexer": "ipython3",
   "version": "3.12.4"
  }
 },
 "nbformat": 4,
 "nbformat_minor": 5
}
