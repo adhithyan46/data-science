{
 "cells": [
  {
   "cell_type": "code",
   "execution_count": 17,
   "id": "1dd2f6a0-a91e-4202-9e25-120fc13c5ecb",
   "metadata": {},
   "outputs": [
    {
     "name": "stdout",
     "output_type": "stream",
     "text": [
      "idf values:\n",
      "{'geeks': 1, 'for': 0, 'r2j': 2}\n",
      "tf-idf values:\n",
      "  (0, 0)\t0.5493512310263033\n",
      "  (0, 1)\t0.8355915419449176\n",
      "  (1, 1)\t1.0\n",
      "  (2, 2)\t1.0\n",
      "tf-idf values in matrix:\n",
      "[[0.54935123 0.83559154 0.        ]\n",
      " [0.         1.         0.        ]\n",
      " [0.         0.         1.        ]]\n"
     ]
    }
   ],
   "source": [
    "from sklearn.feature_extraction.text import TfidfVectorizer\n",
    "d0='geeks for geeks'\n",
    "d1='geeks'\n",
    "d2='r2j'\n",
    "str=[d0,d1,d2]\n",
    "tfidf=TfidfVectorizer()\n",
    "rlt=tfidf.fit_transform(str)\n",
    "print('idf values:')\n",
    "print(tfidf.vocabulary_) \n",
    "print('tf-idf values:')\n",
    "print(rlt)\n",
    "print('tf-idf values in matrix:')\n",
    "print(rlt.toarray())"
   ]
  },
  {
   "cell_type": "code",
   "execution_count": null,
   "id": "5fc255e5-f0c8-49f2-94ff-5112c9e93ffd",
   "metadata": {},
   "outputs": [],
   "source": []
  }
 ],
 "metadata": {
  "kernelspec": {
   "display_name": "Python 3 (ipykernel)",
   "language": "python",
   "name": "python3"
  },
  "language_info": {
   "codemirror_mode": {
    "name": "ipython",
    "version": 3
   },
   "file_extension": ".py",
   "mimetype": "text/x-python",
   "name": "python",
   "nbconvert_exporter": "python",
   "pygments_lexer": "ipython3",
   "version": "3.12.4"
  }
 },
 "nbformat": 4,
 "nbformat_minor": 5
}
