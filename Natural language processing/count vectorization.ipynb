{
 "cells": [
  {
   "cell_type": "code",
   "execution_count": 1,
   "id": "b1949de7-9f13-4bad-af34-d1b8422bf4ba",
   "metadata": {},
   "outputs": [
    {
     "name": "stdout",
     "output_type": "stream",
     "text": [
      "Vocabulary:\n",
      "{'one': 8, 'geek': 3, 'helps': 6, 'two': 10, 'geeks': 4, 'four': 2, 'each': 1, 'many': 7, 'other': 9, 'at': 0, 'geeksforgeeks': 5}\n",
      "\n",
      "Document-Term Matrix:\n",
      "[[0 0 0 1 1 0 1 0 1 0 1]\n",
      " [0 0 1 0 2 0 1 0 0 0 1]\n",
      " [1 1 0 1 1 1 1 1 0 1 0]]\n"
     ]
    }
   ],
   "source": [
    "from sklearn.feature_extraction.text import CountVectorizer\n",
    "\n",
    "doc = ['one geek helps two geeks',\n",
    "    'two geeks helps four geeks',\n",
    "    'each geek helps many other geeks at geeksforgeeks']\n",
    "\n",
    "vectorizer = CountVectorizer()\n",
    "X = vectorizer.fit_transform(doc)\n",
    "\n",
    "print(\"Vocabulary:\")\n",
    "print(vectorizer.vocabulary_)\n",
    "\n",
    "print(\"\\nDocument-Term Matrix:\")\n",
    "print(X.toarray())\n"
   ]
  },
  {
   "cell_type": "code",
   "execution_count": null,
   "id": "d03d5cf0-32e6-4289-b4db-c45a08e4294c",
   "metadata": {},
   "outputs": [],
   "source": []
  },
  {
   "cell_type": "code",
   "execution_count": null,
   "id": "5abe0c17-8a64-4e5b-bbc6-2baf4b0718b1",
   "metadata": {},
   "outputs": [],
   "source": []
  },
  {
   "cell_type": "code",
   "execution_count": null,
   "id": "0bf50e9e-3212-4491-9b4d-0561c4b55ddd",
   "metadata": {},
   "outputs": [],
   "source": []
  },
  {
   "cell_type": "code",
   "execution_count": null,
   "id": "15f85824-b622-43b5-8eed-d2f53f8f54af",
   "metadata": {},
   "outputs": [],
   "source": []
  },
  {
   "cell_type": "code",
   "execution_count": null,
   "id": "c1aa9ea4-7af2-4b42-9457-52cd6b7e24c6",
   "metadata": {},
   "outputs": [],
   "source": []
  }
 ],
 "metadata": {
  "kernelspec": {
   "display_name": "Python 3 (ipykernel)",
   "language": "python",
   "name": "python3"
  },
  "language_info": {
   "codemirror_mode": {
    "name": "ipython",
    "version": 3
   },
   "file_extension": ".py",
   "mimetype": "text/x-python",
   "name": "python",
   "nbconvert_exporter": "python",
   "pygments_lexer": "ipython3",
   "version": "3.12.4"
  }
 },
 "nbformat": 4,
 "nbformat_minor": 5
}
