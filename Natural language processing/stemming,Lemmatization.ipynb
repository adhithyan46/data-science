{
 "cells": [
  {
   "cell_type": "code",
   "execution_count": 5,
   "id": "618ff0d1-83c1-43cb-b074-50da7d7137b7",
   "metadata": {},
   "outputs": [],
   "source": [
    "import nltk\n",
    "#porter stemmer\n",
    "from nltk.stem import PorterStemmer\n",
    "ps=PorterStemmer()"
   ]
  },
  {
   "cell_type": "code",
   "execution_count": 6,
   "id": "b1432fb8-b17a-4e46-ad99-971a09dee3c5",
   "metadata": {},
   "outputs": [
    {
     "data": {
      "text/plain": [
       "'eat'"
      ]
     },
     "execution_count": 6,
     "metadata": {},
     "output_type": "execute_result"
    }
   ],
   "source": [
    "ps.stem('eating')"
   ]
  },
  {
   "cell_type": "code",
   "execution_count": 10,
   "id": "95c224e4-5140-43e3-8d0a-6ea66f34293f",
   "metadata": {},
   "outputs": [
    {
     "data": {
      "text/plain": [
       "'wash'"
      ]
     },
     "execution_count": 10,
     "metadata": {},
     "output_type": "execute_result"
    }
   ],
   "source": [
    "# lancastStemmer\n",
    "from nltk.stem import LancasterStemmer\n",
    "ls=LancasterStemmer()\n",
    "ls.stem('washing')\n"
   ]
  },
  {
   "cell_type": "code",
   "execution_count": 11,
   "id": "e96a1dfc-24bb-4d6b-b99f-1a76b2e854a9",
   "metadata": {},
   "outputs": [
    {
     "data": {
      "text/plain": [
       "'wash'"
      ]
     },
     "execution_count": 11,
     "metadata": {},
     "output_type": "execute_result"
    }
   ],
   "source": [
    "#regexpstemmer\n",
    "from nltk.stem import RegexpStemmer\n",
    "rs=RegexpStemmer('ing')\n",
    "rs.stem('ingwash')"
   ]
  },
  {
   "cell_type": "code",
   "execution_count": 12,
   "id": "602b524a-9d66-4be8-8889-b9bf3c887578",
   "metadata": {},
   "outputs": [
    {
     "data": {
      "text/plain": [
       "'eat'"
      ]
     },
     "execution_count": 12,
     "metadata": {},
     "output_type": "execute_result"
    }
   ],
   "source": [
    "rs=RegexpStemmer('s')\n",
    "rs.stem('eats')"
   ]
  },
  {
   "cell_type": "code",
   "execution_count": 13,
   "id": "f1e996b9-d744-44ad-9cac-8f8596d5b952",
   "metadata": {},
   "outputs": [
    {
     "data": {
      "text/plain": [
       "'bonjour'"
      ]
     },
     "execution_count": 13,
     "metadata": {},
     "output_type": "execute_result"
    }
   ],
   "source": [
    "#snowball stemmer\n",
    "from nltk.stem import SnowballStemmer\n",
    "ss=SnowballStemmer('french')\n",
    "ss.stem('Bonjour')"
   ]
  },
  {
   "cell_type": "code",
   "execution_count": 32,
   "id": "699cba61-6726-4e4c-b21f-f43ea7237207",
   "metadata": {},
   "outputs": [
    {
     "name": "stderr",
     "output_type": "stream",
     "text": [
      "[nltk_data] Downloading package wordnet to\n",
      "[nltk_data]     C:\\Users\\Python\\AppData\\Roaming\\nltk_data...\n"
     ]
    },
    {
     "data": {
      "text/plain": [
       "True"
      ]
     },
     "execution_count": 32,
     "metadata": {},
     "output_type": "execute_result"
    }
   ],
   "source": [
    " nltk.download('wordnet')"
   ]
  },
  {
   "cell_type": "code",
   "execution_count": 35,
   "id": "0cced941-fea0-4666-8735-77315b760621",
   "metadata": {},
   "outputs": [
    {
     "data": {
      "text/plain": [
       "'eating'"
      ]
     },
     "execution_count": 35,
     "metadata": {},
     "output_type": "execute_result"
    }
   ],
   "source": [
    "#lemmatizer\n",
    "from nltk.stem import WordNetLemmatizer\n",
    "lm = WordNetLemmatizer()\n",
    "lw=lm.lemmatize('eating')\n",
    "lw"
   ]
  },
  {
   "cell_type": "code",
   "execution_count": null,
   "id": "aaed0f0f-fdd6-4950-ac04-3ef211c5c0b5",
   "metadata": {},
   "outputs": [],
   "source": []
  }
 ],
 "metadata": {
  "kernelspec": {
   "display_name": "Python 3 (ipykernel)",
   "language": "python",
   "name": "python3"
  },
  "language_info": {
   "codemirror_mode": {
    "name": "ipython",
    "version": 3
   },
   "file_extension": ".py",
   "mimetype": "text/x-python",
   "name": "python",
   "nbconvert_exporter": "python",
   "pygments_lexer": "ipython3",
   "version": "3.12.4"
  }
 },
 "nbformat": 4,
 "nbformat_minor": 5
}
